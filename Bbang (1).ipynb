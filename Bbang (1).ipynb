{
 "cells": [
  {
   "cell_type": "code",
   "execution_count": 1,
   "id": "f437bfc6-ac76-49a4-b9a3-4654a322f600",
   "metadata": {},
   "outputs": [
    {
     "name": "stdout",
     "output_type": "stream",
     "text": [
      ]
    }
   ],
   "source": [
    "# 첫번째 실행셀 / 머띿오 원래 뜸",
    "\n",
    "!pip install -U selenium webdriver-manager"
   ]
  },
  {
   "cell_type": "code",
   "execution_count": 3,
   "id": "7a8651f5-87a3-4336-bfac-b9eaf8d04a06",
   "metadata": {},
   "outputs": [],
   "source": [
   "# 두번째 실행셀 /암것도 안뜸 ",
    "\n",
    "from selenium import webdriver\n",
    "from selenium.webdriver.chrome.service import Service\n",
    "from selenium.webdriver.chrome.options import Options\n",
    "from webdriver_manager.chrome import ChromeDriverManager\n",
    "from selenium.webdriver.common.by import By\n",
    "from selenium.webdriver.common.keys import Keys\n",
    "from selenium.webdriver.support.ui import WebDriverWait\n",
    "from selenium.webdriver.support import expected_conditions as EC\n",
    "import time\n"
   ]
  },
  {
   "cell_type": "markdown",
   "id": "567f5027-dc35-478d-8c7c-53309d5dd039",
   "metadata": {},
   "source": [
    "# chrome://settings/help에서 현재 Chrome의 버전을 확인후\n",
    "# 하단의 버전를 위에 기재된 본인 드라이버버전으로 변경 driver_version=\"134.0.6998.36\""
   ]
  },
  {
   "cell_type": "code",
   "execution_count": 5,
   "id": "d35b8b6e-789c-4a4b-be76-9fd15b4d1be7",
   "metadata": {},
   "outputs": [],
   "source": [
    " # 세번째 실행셀 / 헌재페이지 띄우기",
    "\n",
    "try:\n",
    "    options = webdriver.ChromeOptions()\n",
    "\n",
    "    # 지정한 user-agent로 설정\n",
    "    options.add_argument(\"user-agent=Mozilla/5.0 (Macintosh; Intel Mac OS X 10_12_6)AppleWebKit/537.36 (KHTML, like Gecko) Chrome/96.0.4664 Safari/537.36\")\n",
    "\n",
    "    # 크롬 화면 크기를 설정\n",
    "    # options.add_argument(\"window-size=1440x900\")\n",
    "\n",
    "    # 크롬드라이버 자동 설치 및 최신 버전 사용\n",
    "    driver = webdriver.Chrome(\n",
    "    service=Service(ChromeDriverManager(driver_version=\"134.0.6998.36\").install()), \n",
    "    options=options\n",
    ")\n",
    "\n",
    "\n",
    "    # 접속할 URL\n",
    "    url = \"https://www.ccourt.go.kr/site/kor/ex/bbs/List.do?cbIdx=1115&fbclid=IwZXh0bgNhZW0CMTEAAR2um18TSctnoC0GoqV82RBKRg-aaQNhL7TqnJI-koxOBef8Ux-f13HC4rI_aem_P-rSTfdteyrdUE3C6MagHg\"\n",
    "    driver.get(url)\n",
    "\n",
    "    # 화면로딩 대기\n",
    "    driver.implicitly_wait(60)\n",
    "\n",
    "   \n",
    "\n",
    "except Exception as e:\n",
    "    print(f\"❌ 오류 발생: {e}\")\n",
    "    driver.quit()\n"
   ]
  },
  {
   "cell_type": "markdown",
   "id": "f0156e68-beaa-4a0d-b20b-5acf893ead3a",
   "metadata": {},
   "source": [
    "## 위에거 실행하면 창 뜰꺼야! 상단에 Chrome이 자동화된 테스트 소프트웨어에 의해 제어되고 있습니다 끄면안됨!!\n",
    "## 본인인증 실행후 글작성 페이지라면 수기작성 한번은 해야돼\n",
    "## 리스트 페이지에서 실행하는게 기준임\n",
    "\n",
    "## 아래건 글작성폼인데 영언히,,, 돌아갈수 있게 만들었어 원하는 내용으로 바꾸면 돼!\n",
    "## 주피터노트북을 끄면 프로그램도 꺼집니다\n",
    "## 혹시 헌재페이지에서 오류나면 다시 리스트페이지에서 세번째셀 실행하면됨"
   ]
  },
  {
   "cell_type": "code",
   "execution_count": null,
   "id": "75ce7d8e-9aaf-427d-9157-5337a3511bc8",
   "metadata": {},
   "outputs": [],
   "source": [
    " # 네번째 실행셀 / 뺑긄",
    "\n",
    "try:\n",
    "    while True:  # 영원히 반복\n",
    "        # 3. 글쓰기 페이지 이동 (클래스명으로 버튼 클릭)\n",
    "        write_button = WebDriverWait(driver, 10).until(\n",
    "            EC.element_to_be_clickable((By.XPATH, \"//a[contains(@class, 'btn_bbsWrite') and contains(@class, 'on')]\"))\n",
    "        )\n",
    "        driver.execute_script(\"arguments[0].click();\", write_button)\n",
    "        #print(\"✅ 글쓰기 페이지 이동 완료\")\n",
    "\n",
    "        # 취소 버튼 클릭\n",
    "        cancel_button = WebDriverWait(driver, 10).until(\n",
    "            EC.element_to_be_clickable((By.ID, \"nf-vwr-cancel\"))\n",
    "        )\n",
    "        cancel_button.click()\n",
    "        # print(\"✅ 접속 대기 완료\")\n",
    "\n",
    "        # 5. 글 작성 (제목/내용 입력)\n",
    "        title = WebDriverWait(driver, 30).until(\n",
    "            EC.presence_of_element_located((By.NAME, \"subCont\"))\n",
    "        )\n",
    "        content = WebDriverWait(driver, 30).until(\n",
    "            EC.presence_of_element_located((By.NAME, \"clobCont\"))\n",
    "        )\n",
    "\n",
    "        # print(\"✅ 제목 및 내용 입력창이 로드되었습니다.\")\n",
    "\n",
    "        title.send_keys(\"헌정 질서 수호를 위한 탄핵 심판 촉구\")\n",
    "        content_text = \"\"\"윤석열 대통령 탄핵 심판은 대한민국의 헌정 질서를 수호하는 중대한 사건입니다.\n",
    "        대통령은 군과 경찰, 정보기관을 동원해 불법적 계엄령을 시도하고, 헌법 질서를 무너뜨리는 내란 행위를 감행했습니다.\n",
    "        이는 국민의 기본권을 침해하고 민주주의를 파괴하는 중대한 헌법 위반입니다.\n",
    "        계엄령은 헌법이 정한 엄격한 절차에 따라 제한적으로만 가능함에도, 대통령은 이를 자의적으로 이용해 독재적 통치를 시도했습니다.\n",
    "        또한 권력 유지를 위해 국가기관을 장악하고, 법치주의와 권력분립의 원칙을 무너뜨렸습니다.\n",
    "        이는 헌정사상 유례없는 위기이며, 헌법재판소가 이를 용인한다면 민주주의가 심각하게 후퇴할 것입니다.\n",
    "        헌법과 법률에 따라, 정의로운 판단을 내려주시길 간곡히 요청드립니다.\n",
    "        대한민국의 민주주의와 법치를 지키기 위한 현명하고 용기 있는 결정을 기대합니다.\n",
    "        \"\"\"\n",
    "        driver.execute_script(\"arguments[0].value = arguments[1];\", content, content_text)\n",
    "\n",
    "        # print(\"✅ 글 작성 완료\")\n",
    "\n",
    "        # 글 등록 버튼 클릭\n",
    "        submit_button = WebDriverWait(driver, 10).until(\n",
    "            EC.element_to_be_clickable((By.XPATH, \"//a[contains(@class, 'btn_l') and contains(@class, 'on')]\"))\n",
    "        )\n",
    "        driver.execute_script(\"arguments[0].click();\", submit_button)\n",
    "        # print(\"✅ 글 등록 완료\")\n",
    "\n",
    "        # Alert이 있을 경우만 accept 실행\n",
    "        try:\n",
    "            alert = WebDriverWait(driver, 3).until(EC.alert_is_present())  # 최대 3초 대기\n",
    "            alert.accept()\n",
    "            # print(\"✅ Alert 확인 완료\")\n",
    "        except:\n",
    "            print(\"✅ Alert 없음, 바로 진행\")\n",
    "\n",
    "\n",
    "except Exception as e:\n",
    "    print(f\"❌ 오류 발생: {e}\")"
   ]
  }
 ],
 "metadata": {
  "kernelspec": {
   "display_name": "Python [conda env:base] *",
   "language": "python",
   "name": "conda-base-py"
  },
  "language_info": {
   "codemirror_mode": {
    "name": "ipython",
    "version": 3
   },
   "file_extension": ".py",
   "mimetype": "text/x-python",
   "name": "python",
   "nbconvert_exporter": "python",
   "pygments_lexer": "ipython3",
   "version": "3.12.7"
  }
 },
 "nbformat": 4,
 "nbformat_minor": 5
}
